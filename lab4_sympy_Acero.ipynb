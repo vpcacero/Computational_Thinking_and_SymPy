{
  "cells": [
    {
      "cell_type": "markdown",
      "metadata": {
        "id": "view-in-github",
        "colab_type": "text"
      },
      "source": [
        "<a href=\"https://colab.research.google.com/github/vpcacero/Numerical-and-Symbolic-Computation/blob/main/lab4_sympy_Acero.ipynb\" target=\"_parent\"><img src=\"https://colab.research.google.com/assets/colab-badge.svg\" alt=\"Open In Colab\"/></a>"
      ]
    },
    {
      "cell_type": "code",
      "source": [
        "from sympy import *"
      ],
      "metadata": {
        "id": "vZ0V7WGLXr9O"
      },
      "id": "vZ0V7WGLXr9O",
      "execution_count": 1,
      "outputs": []
    },
    {
      "cell_type": "markdown",
      "source": [
        "---\n",
        "## Playing with Symbols\n",
        "\n",
        "Try running this code:"
      ],
      "metadata": {
        "id": "RPFHhyHsYhGm"
      },
      "id": "RPFHhyHsYhGm"
    },
    {
      "cell_type": "code",
      "source": [
        "x = symbols('x')\n",
        "x + x"
      ],
      "metadata": {
        "id": "A92JlyDyYixm",
        "colab": {
          "base_uri": "https://localhost:8080/",
          "height": 39
        },
        "outputId": "e8e24880-c8cb-4b07-8990-a07b14bcd144"
      },
      "id": "A92JlyDyYixm",
      "execution_count": 2,
      "outputs": [
        {
          "output_type": "execute_result",
          "data": {
            "text/plain": [
              "2*x"
            ],
            "text/latex": "$\\displaystyle 2 x$"
          },
          "metadata": {},
          "execution_count": 2
        }
      ]
    },
    {
      "cell_type": "markdown",
      "source": [
        "**1. What do you think 'x + x' means?** (Answers below):\n",
        "\n",
        "You just add two similar variables of the same value."
      ],
      "metadata": {
        "id": "PX2gRq34YloO"
      },
      "id": "PX2gRq34YloO"
    },
    {
      "cell_type": "markdown",
      "source": [
        "Now try this:"
      ],
      "metadata": {
        "id": "yVF3ZEOoYwZe"
      },
      "id": "yVF3ZEOoYwZe"
    },
    {
      "cell_type": "code",
      "source": [
        "x * x"
      ],
      "metadata": {
        "id": "bxUoWvBmYulL",
        "colab": {
          "base_uri": "https://localhost:8080/",
          "height": 39
        },
        "outputId": "05ce7db4-0c0c-4d9f-ea93-69011ff4dc66"
      },
      "id": "bxUoWvBmYulL",
      "execution_count": 3,
      "outputs": [
        {
          "output_type": "execute_result",
          "data": {
            "text/plain": [
              "x**2"
            ],
            "text/latex": "$\\displaystyle x^{2}$"
          },
          "metadata": {},
          "execution_count": 3
        }
      ]
    },
    {
      "cell_type": "markdown",
      "source": [
        "**2. What does `x * x` represent?** (Answers below):   \n",
        "\n",
        "You multiply a variable to itself."
      ],
      "metadata": {
        "id": "WTpPkyAlY1p1"
      },
      "id": "WTpPkyAlY1p1"
    },
    {
      "cell_type": "markdown",
      "source": [
        "---\n",
        "## Exploring Limits\n",
        "\n",
        "Try this code:"
      ],
      "metadata": {
        "id": "QiSJjx_VHq1p"
      },
      "id": "QiSJjx_VHq1p"
    },
    {
      "cell_type": "code",
      "source": [
        "limit(sin(x)/x, x, 0)"
      ],
      "metadata": {
        "id": "7JRyFVohH7UO",
        "colab": {
          "base_uri": "https://localhost:8080/",
          "height": 37
        },
        "outputId": "619c78ab-255f-4de0-fdfb-c5797306a296"
      },
      "id": "7JRyFVohH7UO",
      "execution_count": 4,
      "outputs": [
        {
          "output_type": "execute_result",
          "data": {
            "text/plain": [
              "1"
            ],
            "text/latex": "$\\displaystyle 1$"
          },
          "metadata": {},
          "execution_count": 4
        }
      ]
    },
    {
      "cell_type": "markdown",
      "source": [
        "**3. What result do you get? What do you think it means?** (Answers below)\n",
        "\n",
        "The line of code resulted in 1. You take the limit of sin(x)/x as x approaches 0."
      ],
      "metadata": {
        "id": "ywTipXNaH5VC"
      },
      "id": "ywTipXNaH5VC"
    },
    {
      "cell_type": "markdown",
      "source": [
        "---\n",
        "## Playing with Derivatives\n",
        "\n",
        "Run this:"
      ],
      "metadata": {
        "id": "_0bSbQm5IPe3"
      },
      "id": "_0bSbQm5IPe3"
    },
    {
      "cell_type": "code",
      "source": [
        "diff(x**2, x)"
      ],
      "metadata": {
        "id": "ODeV9TfcISxy",
        "colab": {
          "base_uri": "https://localhost:8080/",
          "height": 39
        },
        "outputId": "f3b5f86f-6201-4086-db98-51d42a01e1b9"
      },
      "id": "ODeV9TfcISxy",
      "execution_count": 5,
      "outputs": [
        {
          "output_type": "execute_result",
          "data": {
            "text/plain": [
              "2*x"
            ],
            "text/latex": "$\\displaystyle 2 x$"
          },
          "metadata": {},
          "execution_count": 5
        }
      ]
    },
    {
      "cell_type": "markdown",
      "source": [
        "**4. What is the output? Can you describe what it tells you?** (Answers below)\n",
        "\n",
        "It resulted in 2x. You take the derivative x^2 with respect to x."
      ],
      "metadata": {
        "id": "zkB8nUcCIVWK"
      },
      "id": "zkB8nUcCIVWK"
    },
    {
      "cell_type": "markdown",
      "source": [
        "---\n",
        "\n",
        "## 4. Series Expansion\n",
        "\n",
        "Run this code:"
      ],
      "metadata": {
        "id": "MuBEwsMjHvaE"
      },
      "id": "MuBEwsMjHvaE"
    },
    {
      "cell_type": "code",
      "source": [
        "exp(x).series(x, 0, 4)"
      ],
      "metadata": {
        "id": "cfjBnBRDI_zz",
        "colab": {
          "base_uri": "https://localhost:8080/",
          "height": 54
        },
        "outputId": "86d393fb-c49d-4ab0-9b77-a676bd5c7dcd"
      },
      "id": "cfjBnBRDI_zz",
      "execution_count": 6,
      "outputs": [
        {
          "output_type": "execute_result",
          "data": {
            "text/plain": [
              "1 + x + x**2/2 + x**3/6 + O(x**4)"
            ],
            "text/latex": "$\\displaystyle 1 + x + \\frac{x^{2}}{2} + \\frac{x^{3}}{6} + O\\left(x^{4}\\right)$"
          },
          "metadata": {},
          "execution_count": 6
        }
      ]
    },
    {
      "cell_type": "markdown",
      "source": [
        "**5. What do you see? How many terms are shown in the result?**  (Answers below)\n",
        "\n",
        "What I see is the expansion of e^x around x=0, keeping terms up through x^3. There are four terms in the result."
      ],
      "metadata": {
        "id": "v_kHGdQlJDn0"
      },
      "id": "v_kHGdQlJDn0"
    },
    {
      "cell_type": "markdown",
      "source": [
        "---\n",
        "\n",
        "## 5. Solving Equations\n",
        "\n",
        "Try solving this equation:"
      ],
      "metadata": {
        "id": "o89x7hPEJSzC"
      },
      "id": "o89x7hPEJSzC"
    },
    {
      "cell_type": "code",
      "source": [
        "solve(Eq(x**2 - 4, 0), x)"
      ],
      "metadata": {
        "id": "nZRx2-FMJVU4",
        "colab": {
          "base_uri": "https://localhost:8080/"
        },
        "outputId": "2d5f90c8-81a1-4c28-eea2-4d78e17d7f6a"
      },
      "id": "nZRx2-FMJVU4",
      "execution_count": 7,
      "outputs": [
        {
          "output_type": "execute_result",
          "data": {
            "text/plain": [
              "[-2, 2]"
            ]
          },
          "metadata": {},
          "execution_count": 7
        }
      ]
    },
    {
      "cell_type": "markdown",
      "source": [
        "**6. What are the answers?** (Answer below)  \n",
        "\n",
        "-2 and 2\n"
      ],
      "metadata": {
        "id": "BpwkEmDWJZyS"
      },
      "id": "BpwkEmDWJZyS"
    },
    {
      "cell_type": "markdown",
      "source": [
        "**7. What kind of problem do you think this is?** (Answer below)\n",
        "\n",
        "This is an example of a quadratic equation problem."
      ],
      "metadata": {
        "id": "27ZbZbLIJgzK"
      },
      "id": "27ZbZbLIJgzK"
    },
    {
      "cell_type": "markdown",
      "metadata": {
        "id": "OuURTQQuXTgj"
      },
      "source": [
        "---\n",
        "\n",
        "## 6. Final Thoughts\n",
        "\n",
        "**8. What was your favorite part of this activity?** (Answer below)\n",
        "\n",
        "My favorite part is trying to understand the different topic under calculus.\n"
      ],
      "id": "OuURTQQuXTgj"
    },
    {
      "cell_type": "markdown",
      "source": [
        "**9. What was something new or surprising you learned?**  (Answer below)\n",
        "\n",
        "The surprising part was the syntax for the equations. I was surprised I can represent the terms in a equation that way."
      ],
      "metadata": {
        "id": "CkwbgwxSJu8g"
      },
      "id": "CkwbgwxSJu8g"
    }
  ],
  "metadata": {
    "kernelspec": {
      "display_name": "Python 3",
      "language": "python",
      "name": "python3"
    },
    "language_info": {
      "codemirror_mode": {
        "name": "ipython",
        "version": 3
      },
      "file_extension": ".py",
      "mimetype": "text/x-python",
      "name": "python",
      "nbconvert_exporter": "python",
      "pygments_lexer": "ipython3",
      "version": "3.8.16"
    },
    "colab": {
      "provenance": [],
      "include_colab_link": true
    }
  },
  "nbformat": 4,
  "nbformat_minor": 5
}